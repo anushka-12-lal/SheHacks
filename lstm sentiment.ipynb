{
  "cells": [
    {
      "cell_type": "code",
      "metadata": {
        "tags": [],
        "cell_id": "00000-3f246781-a4ca-43c7-b6ec-00929ddc3367",
        "deepnote_to_be_reexecuted": false,
        "source_hash": "f7967830",
        "execution_millis": 4,
        "execution_start": 1618046006349,
        "deepnote_cell_type": "code"
      },
      "source": "import numpy as np\nimport keras\nfrom  keras.preprocessing.text import Tokenizer\nfrom keras.preprocessing.sequence import pad_sequences\nimport os\nimport pandas as pd\nfrom keras.utils import to_categorical\nimport matplotlib.pyplot as plt\nfrom sklearn.metrics import classification_report\n# import scikitplot\n# from scikitplot.metrics import plot_confusion_matrix",
      "execution_count": null,
      "outputs": []
    },
    {
      "cell_type": "code",
      "metadata": {
        "tags": [],
        "cell_id": "00002-c8d0eb7c-bc33-4e51-a3e8-f36c63998728",
        "deepnote_to_be_reexecuted": false,
        "source_hash": "86ccccbb",
        "execution_start": 1618046034674,
        "execution_millis": 47,
        "deepnote_cell_type": "code"
      },
      "source": "df_train = pd.read_csv('/work/archive (4) 2/train.txt', header =None, sep =';', names = ['Input','Sentiment'], encoding='utf-8')\ndf_test = pd.read_csv('/work/archive (4) 2/test.txt', header = None, sep =';', names = ['Input','Sentiment'],encoding='utf-8')",
      "execution_count": null,
      "outputs": []
    },
    {
      "cell_type": "code",
      "metadata": {
        "tags": [],
        "cell_id": "00002-2d84db69-1e14-4acd-a86c-d684c276c1cf",
        "deepnote_to_be_reexecuted": false,
        "source_hash": "7291e3c1",
        "execution_start": 1618046045542,
        "execution_millis": 6,
        "deepnote_cell_type": "code"
      },
      "source": "df_train.Sentiment.value_counts()",
      "execution_count": null,
      "outputs": [
        {
          "output_type": "execute_result",
          "execution_count": 6,
          "data": {
            "text/plain": "joy         5362\nsadness     4666\nanger       2159\nfear        1937\nlove        1304\nsurprise     572\nName: Sentiment, dtype: int64"
          },
          "metadata": {}
        }
      ]
    },
    {
      "cell_type": "code",
      "metadata": {
        "tags": [],
        "cell_id": "00003-0fb20beb-51ba-4c38-bb0d-ebe406d64ed7",
        "deepnote_to_be_reexecuted": false,
        "source_hash": "6e7d6646",
        "execution_start": 1618046051847,
        "execution_millis": 1,
        "deepnote_cell_type": "code"
      },
      "source": "X=df_train['Input']",
      "execution_count": null,
      "outputs": []
    },
    {
      "cell_type": "code",
      "metadata": {
        "tags": [],
        "cell_id": "00004-004e1863-117f-496b-996b-c9c43a7def68",
        "deepnote_to_be_reexecuted": false,
        "source_hash": "5bec6b3d",
        "execution_start": 1618046093665,
        "execution_millis": 4,
        "deepnote_cell_type": "code"
      },
      "source": "lst=[]\nfor i in X:\n  lst.append(len(i))\n\nlen1=pd.DataFrame(lst)\nlen1.describe()",
      "execution_count": null,
      "outputs": [
        {
          "output_type": "execute_result",
          "execution_count": 8,
          "data": {
            "application/vnd.deepnote.dataframe.v2+json": {
              "row_count": 8,
              "column_count": 1,
              "columns": [
                {
                  "name": 0,
                  "dtype": "float64",
                  "stats": {
                    "unique_count": 8,
                    "nan_count": 0,
                    "min": 7,
                    "max": 16000,
                    "histogram": [
                      {
                        "bin_start": 7,
                        "bin_end": 1606.3,
                        "count": 7
                      },
                      {
                        "bin_start": 1606.3,
                        "bin_end": 3205.6,
                        "count": 0
                      },
                      {
                        "bin_start": 3205.6,
                        "bin_end": 4804.9,
                        "count": 0
                      },
                      {
                        "bin_start": 4804.9,
                        "bin_end": 6404.2,
                        "count": 0
                      },
                      {
                        "bin_start": 6404.2,
                        "bin_end": 8003.5,
                        "count": 0
                      },
                      {
                        "bin_start": 8003.5,
                        "bin_end": 9602.8,
                        "count": 0
                      },
                      {
                        "bin_start": 9602.8,
                        "bin_end": 11202.1,
                        "count": 0
                      },
                      {
                        "bin_start": 11202.1,
                        "bin_end": 12801.4,
                        "count": 0
                      },
                      {
                        "bin_start": 12801.4,
                        "bin_end": 14400.699999999999,
                        "count": 0
                      },
                      {
                        "bin_start": 14400.699999999999,
                        "bin_end": 16000,
                        "count": 1
                      }
                    ]
                  }
                },
                {
                  "name": "_deepnote_index_column",
                  "dtype": "object"
                }
              ],
              "rows_top": [
                {
                  "0": 16000,
                  "_deepnote_index_column": "count"
                },
                {
                  "0": 96.8458125,
                  "_deepnote_index_column": "mean"
                },
                {
                  "0": 55.904952812332766,
                  "_deepnote_index_column": "std"
                },
                {
                  "0": 7,
                  "_deepnote_index_column": "min"
                },
                {
                  "0": 53,
                  "_deepnote_index_column": "25%"
                },
                {
                  "0": 86,
                  "_deepnote_index_column": "50%"
                },
                {
                  "0": 129,
                  "_deepnote_index_column": "75%"
                },
                {
                  "0": 300,
                  "_deepnote_index_column": "max"
                }
              ],
              "rows_bottom": null
            },
            "text/plain": "                  0\ncount  16000.000000\nmean      96.845812\nstd       55.904953\nmin        7.000000\n25%       53.000000\n50%       86.000000\n75%      129.000000\nmax      300.000000",
            "text/html": "<div>\n<style scoped>\n    .dataframe tbody tr th:only-of-type {\n        vertical-align: middle;\n    }\n\n    .dataframe tbody tr th {\n        vertical-align: top;\n    }\n\n    .dataframe thead th {\n        text-align: right;\n    }\n</style>\n<table border=\"1\" class=\"dataframe\">\n  <thead>\n    <tr style=\"text-align: right;\">\n      <th></th>\n      <th>0</th>\n    </tr>\n  </thead>\n  <tbody>\n    <tr>\n      <th>count</th>\n      <td>16000.000000</td>\n    </tr>\n    <tr>\n      <th>mean</th>\n      <td>96.845812</td>\n    </tr>\n    <tr>\n      <th>std</th>\n      <td>55.904953</td>\n    </tr>\n    <tr>\n      <th>min</th>\n      <td>7.000000</td>\n    </tr>\n    <tr>\n      <th>25%</th>\n      <td>53.000000</td>\n    </tr>\n    <tr>\n      <th>50%</th>\n      <td>86.000000</td>\n    </tr>\n    <tr>\n      <th>75%</th>\n      <td>129.000000</td>\n    </tr>\n    <tr>\n      <th>max</th>\n      <td>300.000000</td>\n    </tr>\n  </tbody>\n</table>\n</div>"
          },
          "metadata": {}
        }
      ]
    },
    {
      "cell_type": "code",
      "metadata": {
        "tags": [],
        "cell_id": "00005-d6290b7a-8e3a-445d-b28d-cc201dae14fe",
        "deepnote_to_be_reexecuted": false,
        "source_hash": "6ea562f5",
        "execution_start": 1618046106144,
        "execution_millis": 251,
        "deepnote_cell_type": "code"
      },
      "source": "cts=[]\nfor i in range(7,301):\n   ct=0\n   for k in lst:\n     if k==i:\n       ct+=1\n   cts.append(ct)",
      "execution_count": null,
      "outputs": []
    },
    {
      "cell_type": "code",
      "metadata": {
        "tags": [],
        "cell_id": "00006-2eb58c18-ba4d-414e-861a-259491461703",
        "deepnote_to_be_reexecuted": false,
        "source_hash": "260ac960",
        "execution_start": 1618046116205,
        "execution_millis": 360,
        "deepnote_cell_type": "code"
      },
      "source": "tokenizer=Tokenizer(15212,lower=True,oov_token='UNK')\ntokenizer.fit_on_texts(X)",
      "execution_count": null,
      "outputs": []
    },
    {
      "cell_type": "code",
      "metadata": {
        "tags": [],
        "cell_id": "00007-72f8eb32-8606-404a-82b1-5a94b16439d8",
        "deepnote_to_be_reexecuted": false,
        "source_hash": "f538d9c",
        "execution_start": 1618046123030,
        "execution_millis": 9,
        "deepnote_cell_type": "code"
      },
      "source": "len(tokenizer.word_index)",
      "execution_count": null,
      "outputs": [
        {
          "output_type": "execute_result",
          "execution_count": 11,
          "data": {
            "text/plain": "15213"
          },
          "metadata": {}
        }
      ]
    },
    {
      "cell_type": "code",
      "metadata": {
        "tags": [],
        "cell_id": "00008-ec5e0500-3fdc-4853-815a-f667defc0917",
        "deepnote_to_be_reexecuted": false,
        "source_hash": "c185abd4",
        "execution_start": 1618046128855,
        "execution_millis": 284,
        "deepnote_cell_type": "code"
      },
      "source": "X_train=tokenizer.texts_to_sequences(X)\nX_train_pad=pad_sequences(X_train,maxlen=80,padding='post')",
      "execution_count": null,
      "outputs": []
    },
    {
      "cell_type": "code",
      "metadata": {
        "tags": [],
        "cell_id": "00009-9d8dbe84-4d4a-4ae7-aad0-b51ba17812eb",
        "deepnote_to_be_reexecuted": false,
        "source_hash": "4c3b7b4d",
        "execution_start": 1618046142632,
        "execution_millis": 10,
        "deepnote_cell_type": "code"
      },
      "source": "df_train['Sentiment']=df_train.Sentiment.replace({'joy':0,'anger':1,'love':2,'sadness':3,'fear':4,'surprise':5})\nY_train=df_train['Sentiment'].values",
      "execution_count": null,
      "outputs": []
    },
    {
      "cell_type": "code",
      "metadata": {
        "tags": [],
        "cell_id": "00010-c193915c-2429-4026-af9e-2a63741dfcce",
        "deepnote_to_be_reexecuted": false,
        "source_hash": "12d2b6fd",
        "execution_start": 1618046149482,
        "execution_millis": 3,
        "deepnote_cell_type": "code"
      },
      "source": "Y_train_f=to_categorical(Y_train)",
      "execution_count": null,
      "outputs": []
    },
    {
      "cell_type": "code",
      "metadata": {
        "tags": [],
        "cell_id": "00011-1a0a2ac1-1967-4c5a-8971-067089ac84d5",
        "deepnote_to_be_reexecuted": false,
        "source_hash": "debe6caa",
        "execution_start": 1618046155623,
        "execution_millis": 7,
        "deepnote_cell_type": "code"
      },
      "source": "Y_train_f[:6]",
      "execution_count": null,
      "outputs": [
        {
          "output_type": "execute_result",
          "execution_count": 15,
          "data": {
            "text/plain": "array([[0., 0., 0., 1., 0., 0.],\n       [0., 0., 0., 1., 0., 0.],\n       [0., 1., 0., 0., 0., 0.],\n       [0., 0., 1., 0., 0., 0.],\n       [0., 1., 0., 0., 0., 0.],\n       [0., 0., 0., 1., 0., 0.]], dtype=float32)"
          },
          "metadata": {}
        }
      ]
    },
    {
      "cell_type": "code",
      "metadata": {
        "tags": [],
        "cell_id": "00012-b2f411b4-9f08-407b-b05a-68f8143fb2b6",
        "deepnote_to_be_reexecuted": false,
        "source_hash": "fb7dcc32",
        "execution_start": 1618046234185,
        "execution_millis": 1,
        "deepnote_cell_type": "code"
      },
      "source": "df_val=pd.read_csv('/work/archive (4) 2/val.txt',header=None,sep=';',names=['Input','Sentiment'],encoding='utf-8')",
      "execution_count": null,
      "outputs": []
    },
    {
      "cell_type": "code",
      "metadata": {
        "tags": [],
        "cell_id": "00012-42d9ad75-1e96-4641-83c7-b2c09fb874cd",
        "deepnote_to_be_reexecuted": false,
        "source_hash": "649e953c",
        "execution_millis": 44,
        "execution_start": 1618046234361,
        "deepnote_cell_type": "code"
      },
      "source": "X_val=df_val['Input']\nY_val=df_val.Sentiment.replace({'joy':0,'anger':1,'love':2,'sadness':3,'fear':4,'surprise':5})\nX_val_f=tokenizer.texts_to_sequences(X_val)\nX_val_pad=pad_sequences(X_val_f,maxlen=80,padding='post')",
      "execution_count": null,
      "outputs": []
    },
    {
      "cell_type": "code",
      "metadata": {
        "tags": [],
        "cell_id": "00013-241dcb70-11fd-437f-b97f-675e8ec8b80b",
        "deepnote_to_be_reexecuted": false,
        "source_hash": "43d7ae5b",
        "execution_start": 1618046235845,
        "execution_millis": 2,
        "deepnote_cell_type": "code"
      },
      "source": "Y_val_f=to_categorical(Y_val)",
      "execution_count": null,
      "outputs": []
    },
    {
      "cell_type": "code",
      "metadata": {
        "tags": [],
        "cell_id": "00015-bd72e61c-4c00-41be-8ea9-3422cfd8e0a6",
        "deepnote_to_be_reexecuted": false,
        "source_hash": "2f9c56c3",
        "execution_start": 1618046250160,
        "execution_millis": 2,
        "deepnote_cell_type": "code"
      },
      "source": "from keras.models import Sequential\nfrom keras.layers import LSTM,Bidirectional,Dense,Embedding,Dropout",
      "execution_count": null,
      "outputs": []
    },
    {
      "cell_type": "code",
      "metadata": {
        "tags": [],
        "cell_id": "00016-87ee42c8-0a25-414c-9998-2b6ed502cdc0",
        "deepnote_to_be_reexecuted": false,
        "source_hash": "7de0e3d7",
        "execution_start": 1618046258103,
        "execution_millis": 845,
        "deepnote_cell_type": "code"
      },
      "source": "model=Sequential()\nmodel.add(Embedding(15212,64,input_length=80))\nmodel.add(Dropout(0.6))\nmodel.add(Bidirectional(LSTM(80,return_sequences=True)))\nmodel.add(Bidirectional(LSTM(160)))\nmodel.add(Dense(6,activation='softmax'))\nprint(model.summary())",
      "execution_count": null,
      "outputs": [
        {
          "name": "stdout",
          "text": "Model: \"sequential\"\n_________________________________________________________________\nLayer (type)                 Output Shape              Param #   \n=================================================================\nembedding (Embedding)        (None, 80, 64)            973568    \n_________________________________________________________________\ndropout (Dropout)            (None, 80, 64)            0         \n_________________________________________________________________\nbidirectional (Bidirectional (None, 80, 160)           92800     \n_________________________________________________________________\nbidirectional_1 (Bidirection (None, 320)               410880    \n_________________________________________________________________\ndense (Dense)                (None, 6)                 1926      \n=================================================================\nTotal params: 1,479,174\nTrainable params: 1,479,174\nNon-trainable params: 0\n_________________________________________________________________\nNone\n",
          "output_type": "stream"
        }
      ]
    },
    {
      "cell_type": "code",
      "metadata": {
        "tags": [],
        "cell_id": "00017-62e62a8b-f525-4d85-8e61-612c914d595e",
        "deepnote_to_be_reexecuted": false,
        "source_hash": "48e6bb66",
        "execution_start": 1618046271341,
        "execution_millis": 1,
        "deepnote_cell_type": "code"
      },
      "source": "model.compile(optimizer='adam',loss='categorical_crossentropy',metrics=['accuracy'])",
      "execution_count": null,
      "outputs": []
    },
    {
      "cell_type": "code",
      "metadata": {
        "tags": [],
        "cell_id": "00018-ad749513-230b-4ca0-a35e-0ce87f7e601b",
        "deepnote_to_be_reexecuted": false,
        "source_hash": "1990f2f3",
        "execution_start": 1618046278233,
        "execution_millis": 2642557,
        "deepnote_cell_type": "code"
      },
      "source": "hist=model.fit(X_train_pad,Y_train_f,epochs=12,validation_data=(X_val_pad,Y_val_f))",
      "execution_count": null,
      "outputs": [
        {
          "name": "stdout",
          "text": "Epoch 1/12\n500/500 [==============================] - 220s 431ms/step - loss: 1.4713 - accuracy: 0.4023 - val_loss: 0.6834 - val_accuracy: 0.7525\nEpoch 2/12\n500/500 [==============================] - 217s 435ms/step - loss: 0.5257 - accuracy: 0.8148 - val_loss: 0.2567 - val_accuracy: 0.9175\nEpoch 3/12\n500/500 [==============================] - 215s 429ms/step - loss: 0.2641 - accuracy: 0.9069 - val_loss: 0.2235 - val_accuracy: 0.9210\nEpoch 4/12\n500/500 [==============================] - 216s 432ms/step - loss: 0.1985 - accuracy: 0.9292 - val_loss: 0.2077 - val_accuracy: 0.9190\nEpoch 5/12\n500/500 [==============================] - 214s 428ms/step - loss: 0.1486 - accuracy: 0.9445 - val_loss: 0.1701 - val_accuracy: 0.9240\nEpoch 6/12\n500/500 [==============================] - 214s 429ms/step - loss: 0.1336 - accuracy: 0.9493 - val_loss: 0.1805 - val_accuracy: 0.9250\nEpoch 7/12\n500/500 [==============================] - 215s 429ms/step - loss: 0.1089 - accuracy: 0.9594 - val_loss: 0.1511 - val_accuracy: 0.9330\nEpoch 8/12\n500/500 [==============================] - 216s 432ms/step - loss: 0.0992 - accuracy: 0.9618 - val_loss: 0.1722 - val_accuracy: 0.9290\nEpoch 9/12\n500/500 [==============================] - 238s 477ms/step - loss: 0.0867 - accuracy: 0.9636 - val_loss: 0.1618 - val_accuracy: 0.9340\nEpoch 10/12\n500/500 [==============================] - 247s 495ms/step - loss: 0.0764 - accuracy: 0.9719 - val_loss: 0.1731 - val_accuracy: 0.9300\nEpoch 11/12\n500/500 [==============================] - 215s 430ms/step - loss: 0.0692 - accuracy: 0.9706 - val_loss: 0.1389 - val_accuracy: 0.9415\nEpoch 12/12\n500/500 [==============================] - 215s 430ms/step - loss: 0.0622 - accuracy: 0.9771 - val_loss: 0.1691 - val_accuracy: 0.9375\n",
          "output_type": "stream"
        }
      ]
    },
    {
      "cell_type": "code",
      "metadata": {
        "tags": [],
        "cell_id": "00019-353a63f5-3a6a-4b72-a18c-4cf29b610cd8",
        "deepnote_to_be_reexecuted": false,
        "source_hash": "c663f3cf",
        "execution_start": 1618048920791,
        "execution_millis": 7,
        "deepnote_cell_type": "code"
      },
      "source": "X_test=df_test['Input']\nY_test=df_test.Sentiment.replace({'joy':0,'anger':1,'love':2,'sadness':3,'fear':4,'surprise':5})",
      "execution_count": null,
      "outputs": []
    },
    {
      "cell_type": "code",
      "metadata": {
        "tags": [],
        "cell_id": "00020-40ad8cad-6623-4931-a484-dda4144ef727",
        "deepnote_to_be_reexecuted": false,
        "source_hash": "5cab680a",
        "execution_start": 1618048920821,
        "execution_millis": 196,
        "deepnote_cell_type": "code"
      },
      "source": "X_test_f=tokenizer.texts_to_sequences(X_test)\nX_test_pad=pad_sequences(X_test_f,maxlen=80,padding='post')",
      "execution_count": null,
      "outputs": []
    },
    {
      "cell_type": "code",
      "metadata": {
        "tags": [],
        "cell_id": "00021-d204d1a8-4969-4b8a-b934-7a5e2fd9fb18",
        "deepnote_to_be_reexecuted": false,
        "source_hash": "26107877",
        "execution_start": 1618048921020,
        "execution_millis": 11,
        "deepnote_cell_type": "code"
      },
      "source": "Y_test_f=to_categorical(Y_test)\nX_test_pad.shape\nY_test_f[:7]",
      "execution_count": null,
      "outputs": [
        {
          "output_type": "execute_result",
          "execution_count": 26,
          "data": {
            "text/plain": "array([[0., 0., 0., 1., 0., 0.],\n       [0., 0., 0., 1., 0., 0.],\n       [0., 0., 0., 1., 0., 0.],\n       [1., 0., 0., 0., 0., 0.],\n       [0., 0., 0., 1., 0., 0.],\n       [0., 0., 0., 0., 1., 0.],\n       [0., 1., 0., 0., 0., 0.]], dtype=float32)"
          },
          "metadata": {}
        }
      ]
    },
    {
      "cell_type": "code",
      "metadata": {
        "tags": [],
        "cell_id": "00022-295bace6-598a-49db-82f5-ff319fc12058",
        "deepnote_to_be_reexecuted": false,
        "source_hash": "e66f58e3",
        "execution_start": 1618048921029,
        "execution_millis": 7094,
        "deepnote_cell_type": "code"
      },
      "source": "model.evaluate(X_test_pad,Y_test_f)",
      "execution_count": null,
      "outputs": [
        {
          "name": "stdout",
          "text": "63/63 [==============================] - 7s 111ms/step - loss: 0.1807 - accuracy: 0.9295\n",
          "output_type": "stream"
        },
        {
          "output_type": "execute_result",
          "execution_count": 27,
          "data": {
            "text/plain": "[0.1806565672159195, 0.9294999837875366]"
          },
          "metadata": {}
        }
      ]
    },
    {
      "cell_type": "code",
      "metadata": {
        "tags": [],
        "cell_id": "00023-dfe4d39b-a2ce-4403-a3c6-a9d8c4eba887",
        "deepnote_to_be_reexecuted": false,
        "source_hash": "9ceaa50d",
        "execution_start": 1618048928122,
        "execution_millis": 7838,
        "deepnote_cell_type": "code"
      },
      "source": "Y_pred=model.predict_classes(X_test_pad)",
      "execution_count": null,
      "outputs": [
        {
          "name": "stderr",
          "text": "/shared-libs/python3.7/py/lib/python3.7/site-packages/tensorflow/python/keras/engine/sequential.py:450: UserWarning: `model.predict_classes()` is deprecated and will be removed after 2021-01-01. Please use instead:* `np.argmax(model.predict(x), axis=-1)`,   if your model does multi-class classification   (e.g. if it uses a `softmax` last-layer activation).* `(model.predict(x) > 0.5).astype(\"int32\")`,   if your model does binary classification   (e.g. if it uses a `sigmoid` last-layer activation).\n  warnings.warn('`model.predict_classes()` is deprecated and '\n",
          "output_type": "stream"
        }
      ]
    },
    {
      "cell_type": "code",
      "metadata": {
        "tags": [],
        "cell_id": "00024-f10e06ad-3b8b-4e28-a50a-f5ada000c2d8",
        "deepnote_to_be_reexecuted": false,
        "source_hash": "cf515c61",
        "execution_start": 1618048935962,
        "execution_millis": 19,
        "deepnote_cell_type": "code"
      },
      "source": "print(classification_report(Y_test,Y_pred))",
      "execution_count": null,
      "outputs": [
        {
          "name": "stdout",
          "text": "              precision    recall  f1-score   support\n\n           0       0.93      0.97      0.95       695\n           1       0.92      0.95      0.94       275\n           2       0.89      0.75      0.82       159\n           3       0.98      0.96      0.97       581\n           4       0.94      0.84      0.89       224\n           5       0.67      0.88      0.76        66\n\n    accuracy                           0.93      2000\n   macro avg       0.89      0.89      0.89      2000\nweighted avg       0.93      0.93      0.93      2000\n\n",
          "output_type": "stream"
        }
      ]
    },
    {
      "cell_type": "code",
      "metadata": {
        "tags": [],
        "cell_id": "00025-70905bc3-a54b-4805-bc84-9f4ec7c7f818",
        "deepnote_to_be_reexecuted": false,
        "source_hash": "7eff50f2",
        "execution_start": 1618048935977,
        "execution_millis": 3,
        "deepnote_cell_type": "code"
      },
      "source": "def get_key(value):\n    dictionary={'joy':0,'anger':1,'love':2,'sadness':3,'fear':4,'surprise':5}\n    for key,val in dictionary.items():\n          if (val==value):\n            return key",
      "execution_count": null,
      "outputs": []
    },
    {
      "cell_type": "code",
      "metadata": {
        "tags": [],
        "cell_id": "00026-a8d950c0-e0a7-4600-8e50-ff3b0c75089b",
        "deepnote_to_be_reexecuted": false,
        "source_hash": "29d1a9f1",
        "execution_start": 1618048935984,
        "execution_millis": 3,
        "deepnote_cell_type": "code"
      },
      "source": "def predict(sentence):\n  sentence_lst=[]\n  sentence_lst.append(sentence)\n  sentence_seq=tokenizer.texts_to_sequences(sentence_lst)\n  sentence_padded=pad_sequences(sentence_seq,maxlen=80,padding='post')\n  ans=get_key(model.predict_classes(sentence_padded))\n  print(\"The emotion predicted is\",ans)",
      "execution_count": null,
      "outputs": []
    },
    {
      "cell_type": "code",
      "metadata": {
        "tags": [],
        "cell_id": "00027-72c49637-a0af-4155-a927-d42cfd25614d",
        "deepnote_to_be_reexecuted": false,
        "source_hash": "37dddd72",
        "execution_millis": 241442,
        "execution_start": 1618050066857,
        "deepnote_cell_type": "code"
      },
      "source": "predict(str(input('Enter a sentence : ')))",
      "execution_count": null,
      "outputs": [
        {
          "output_type": "error",
          "ename": "KeyboardInterrupt",
          "evalue": "Interrupted by user",
          "traceback": [
            "\u001b[0;31m---------------------------------------------------------------------------\u001b[0m",
            "\u001b[0;31mKeyboardInterrupt\u001b[0m                         Traceback (most recent call last)",
            "\u001b[0;32m<ipython-input-33-145dc1f7fc9c>\u001b[0m in \u001b[0;36m<module>\u001b[0;34m\u001b[0m\n\u001b[0;32m----> 1\u001b[0;31m \u001b[0mpredict\u001b[0m\u001b[0;34m(\u001b[0m\u001b[0mstr\u001b[0m\u001b[0;34m(\u001b[0m\u001b[0minput\u001b[0m\u001b[0;34m(\u001b[0m\u001b[0;34m'Enter a sentence : '\u001b[0m\u001b[0;34m)\u001b[0m\u001b[0;34m)\u001b[0m\u001b[0;34m)\u001b[0m\u001b[0;34m\u001b[0m\u001b[0;34m\u001b[0m\u001b[0m\n\u001b[0m",
            "\u001b[0;32m/shared-libs/python3.7/py-core/lib/python3.7/site-packages/ipykernel/kernelbase.py\u001b[0m in \u001b[0;36mraw_input\u001b[0;34m(self, prompt)\u001b[0m\n\u001b[1;32m    849\u001b[0m             \u001b[0mself\u001b[0m\u001b[0;34m.\u001b[0m\u001b[0m_parent_ident\u001b[0m\u001b[0;34m,\u001b[0m\u001b[0;34m\u001b[0m\u001b[0;34m\u001b[0m\u001b[0m\n\u001b[1;32m    850\u001b[0m             \u001b[0mself\u001b[0m\u001b[0;34m.\u001b[0m\u001b[0m_parent_header\u001b[0m\u001b[0;34m,\u001b[0m\u001b[0;34m\u001b[0m\u001b[0;34m\u001b[0m\u001b[0m\n\u001b[0;32m--> 851\u001b[0;31m             \u001b[0mpassword\u001b[0m\u001b[0;34m=\u001b[0m\u001b[0;32mFalse\u001b[0m\u001b[0;34m,\u001b[0m\u001b[0;34m\u001b[0m\u001b[0;34m\u001b[0m\u001b[0m\n\u001b[0m\u001b[1;32m    852\u001b[0m         )\n\u001b[1;32m    853\u001b[0m \u001b[0;34m\u001b[0m\u001b[0m\n",
            "\u001b[0;32m/shared-libs/python3.7/py-core/lib/python3.7/site-packages/ipykernel/kernelbase.py\u001b[0m in \u001b[0;36m_input_request\u001b[0;34m(self, prompt, ident, parent, password)\u001b[0m\n\u001b[1;32m    890\u001b[0m             \u001b[0;32mexcept\u001b[0m \u001b[0mKeyboardInterrupt\u001b[0m\u001b[0;34m:\u001b[0m\u001b[0;34m\u001b[0m\u001b[0;34m\u001b[0m\u001b[0m\n\u001b[1;32m    891\u001b[0m                 \u001b[0;31m# re-raise KeyboardInterrupt, to truncate traceback\u001b[0m\u001b[0;34m\u001b[0m\u001b[0;34m\u001b[0m\u001b[0;34m\u001b[0m\u001b[0m\n\u001b[0;32m--> 892\u001b[0;31m                 \u001b[0;32mraise\u001b[0m \u001b[0mKeyboardInterrupt\u001b[0m\u001b[0;34m(\u001b[0m\u001b[0;34m\"Interrupted by user\"\u001b[0m\u001b[0;34m)\u001b[0m \u001b[0;32mfrom\u001b[0m \u001b[0;32mNone\u001b[0m\u001b[0;34m\u001b[0m\u001b[0;34m\u001b[0m\u001b[0m\n\u001b[0m\u001b[1;32m    893\u001b[0m             \u001b[0;32mexcept\u001b[0m \u001b[0mException\u001b[0m \u001b[0;32mas\u001b[0m \u001b[0me\u001b[0m\u001b[0;34m:\u001b[0m\u001b[0;34m\u001b[0m\u001b[0;34m\u001b[0m\u001b[0m\n\u001b[1;32m    894\u001b[0m                 \u001b[0mself\u001b[0m\u001b[0;34m.\u001b[0m\u001b[0mlog\u001b[0m\u001b[0;34m.\u001b[0m\u001b[0mwarning\u001b[0m\u001b[0;34m(\u001b[0m\u001b[0;34m\"Invalid Message:\"\u001b[0m\u001b[0;34m,\u001b[0m \u001b[0mexc_info\u001b[0m\u001b[0;34m=\u001b[0m\u001b[0;32mTrue\u001b[0m\u001b[0;34m)\u001b[0m\u001b[0;34m\u001b[0m\u001b[0;34m\u001b[0m\u001b[0m\n",
            "\u001b[0;31mKeyboardInterrupt\u001b[0m: Interrupted by user"
          ]
        }
      ]
    },
    {
      "cell_type": "code",
      "metadata": {
        "tags": [],
        "cell_id": "00028-78de5f64-3460-4ab5-a81f-54f0c7086ed1",
        "deepnote_to_be_reexecuted": false,
        "source_hash": "5dadfda4",
        "execution_start": 1618050311748,
        "execution_millis": 72,
        "deepnote_cell_type": "code"
      },
      "source": "model.save('lstm_sentiment.h5')",
      "execution_count": null,
      "outputs": []
    },
    {
      "cell_type": "code",
      "metadata": {
        "tags": [],
        "cell_id": "00029-1676fc3a-d9b5-4f2e-9e1c-d04d9bb9b70a",
        "deepnote_to_be_reexecuted": false,
        "source_hash": "bb128903",
        "execution_millis": 18,
        "execution_start": 1618051460009,
        "deepnote_cell_type": "code"
      },
      "source": "li=[\"I want to punch\"]\nsentence_seq=tokenizer.texts_to_sequences(li)\nsentence_padded=pad_sequences(sentence_seq,maxlen=80,padding='post')\nans=get_key(model.predict_classes(sentence_padded))\nprint(ans)",
      "execution_count": null,
      "outputs": [
        {
          "name": "stdout",
          "text": "anger\n",
          "output_type": "stream"
        }
      ]
    },
    {
      "cell_type": "code",
      "metadata": {
        "tags": [],
        "cell_id": "00030-b4eb8115-1783-4571-9d71-a848c49435ae",
        "deepnote_cell_type": "code"
      },
      "source": "",
      "execution_count": null,
      "outputs": []
    },
    {
      "cell_type": "markdown",
      "source": "<a style='text-decoration:none;line-height:16px;display:flex;color:#5B5B62;padding:10px;justify-content:end;' href='https://deepnote.com?utm_source=created-in-deepnote-cell&projectId=44141780-bb75-42f9-884a-3d1e7c3f3442' target=\"_blank\">\n<img alt='Created in deepnote.com' style='display:inline;max-height:16px;margin:0px;margin-right:7.5px;' src='data:image/svg+xml;base64,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' > </img>\nCreated in <span style='font-weight:600;margin-left:4px;'>Deepnote</span></a>",
      "metadata": {
        "tags": [],
        "created_in_deepnote_cell": true,
        "deepnote_cell_type": "markdown"
      }
    }
  ],
  "nbformat": 4,
  "nbformat_minor": 2,
  "metadata": {
    "orig_nbformat": 2,
    "deepnote": {
      "is_reactive": false
    },
    "deepnote_notebook_id": "f7720a5a-7eaf-4b2c-9b36-3c8e246a9f97",
    "deepnote_execution_queue": []
  }
}